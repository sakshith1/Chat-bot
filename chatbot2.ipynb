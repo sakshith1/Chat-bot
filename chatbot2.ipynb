{
  "cells": [
    {
      "cell_type": "markdown",
      "metadata": {
        "id": "view-in-github",
        "colab_type": "text"
      },
      "source": [
        "<a href=\"https://colab.research.google.com/github/sakshith1/Chat-bot/blob/main/chatbot2.ipynb\" target=\"_parent\"><img src=\"https://colab.research.google.com/assets/colab-badge.svg\" alt=\"Open In Colab\"/></a>"
      ]
    },
    {
      "cell_type": "code",
      "execution_count": null,
      "metadata": {
        "id": "QPSTLXh_nowa"
      },
      "outputs": [],
      "source": [
        "import numpy as np\n",
        "import nltk\n",
        "import string\n",
        "import random\n"
      ]
    },
    {
      "cell_type": "code",
      "execution_count": null,
      "metadata": {
        "colab": {
          "base_uri": "https://localhost:8080/"
        },
        "id": "6_XiOHXEoB9E",
        "outputId": "24ae370b-0fd6-411c-e022-c2be44d9cbe3"
      },
      "outputs": [
        {
          "name": "stderr",
          "output_type": "stream",
          "text": [
            "[nltk_data] Downloading package punkt to /root/nltk_data...\n",
            "[nltk_data]   Package punkt is already up-to-date!\n",
            "[nltk_data] Downloading package wordnet to /root/nltk_data...\n",
            "[nltk_data]   Package wordnet is already up-to-date!\n"
          ]
        }
      ],
      "source": [
        "f = open('/content/The 7 habits of highly effective people personal workbook ( PDFDrive ).txt','r',errors = 'ignore')\n",
        "raw_doc = f.read()\n",
        "raw_doc = raw_doc.lower()\n",
        "nltk.download('punkt')\n",
        "nltk.download('wordnet')\n",
        "sent_tokens = nltk.sent_tokenize(raw_doc)\n",
        "word_tokens = nltk.word_tokenize(raw_doc)\n"
      ]
    },
    {
      "cell_type": "markdown",
      "metadata": {
        "id": "UG8Ihxr5DSYH"
      },
      "source": []
    },
    {
      "cell_type": "code",
      "execution_count": null,
      "metadata": {
        "colab": {
          "base_uri": "https://localhost:8080/"
        },
        "id": "58kXvAQuDTMw",
        "outputId": "382b7823-2076-4b97-eb29-4638511307d1"
      },
      "outputs": [
        {
          "name": "stdout",
          "output_type": "stream",
          "text": [
            "<_io.TextIOWrapper name='/content/The 7 habits of highly effective people personal workbook ( PDFDrive ).txt' mode='r' encoding='UTF-8'>\n"
          ]
        }
      ],
      "source": [
        "print(f)"
      ]
    },
    {
      "cell_type": "code",
      "execution_count": null,
      "metadata": {
        "colab": {
          "base_uri": "https://localhost:8080/"
        },
        "id": "woysqEZRodxQ",
        "outputId": "26032e31-f7ac-4efe-cdac-359a01363b5b"
      },
      "outputs": [
        {
          "data": {
            "text/plain": [
              "['thank you for downloading this touchstone ebook.',\n",
              " '* * *\\n\\n\\n\\njoin our mailing list and get updates on new releases, deals, bonus content and other great books from simon & schuster.']"
            ]
          },
          "execution_count": 7,
          "metadata": {},
          "output_type": "execute_result"
        }
      ],
      "source": [
        "sent_tokens[:2]"
      ]
    },
    {
      "cell_type": "code",
      "execution_count": null,
      "metadata": {
        "colab": {
          "base_uri": "https://localhost:8080/"
        },
        "id": "BeTAvJm2qhEF",
        "outputId": "6ac7170b-5f86-4fe7-83b2-1648a28cefa3"
      },
      "outputs": [
        {
          "data": {
            "text/plain": [
              "['thank', 'you']"
            ]
          },
          "execution_count": 8,
          "metadata": {},
          "output_type": "execute_result"
        }
      ],
      "source": [
        "word_tokens[:2]"
      ]
    },
    {
      "cell_type": "code",
      "execution_count": null,
      "metadata": {
        "id": "Y1YsXGBkqmBD"
      },
      "outputs": [],
      "source": [
        "lemmer = nltk.stem.WordNetLemmatizer()\n",
        "def LemTokens(tokens):\n",
        "  return [lemmer.lemmatize(token) for token in tokens]\n",
        "remove_punct_dict = dict((ord(punct),None)for punct in string.punctuation)\n",
        "def LemNormalize(text):\n",
        "  return LemTokens(nltk.word_tokenize(text.lower().translate(remove_punct_dict)))"
      ]
    },
    {
      "cell_type": "code",
      "execution_count": null,
      "metadata": {
        "id": "VebwveJFWsFj"
      },
      "outputs": [],
      "source": []
    },
    {
      "cell_type": "markdown",
      "metadata": {
        "id": "TdS1_kO7XT4H"
      },
      "source": [
        "# greeting function"
      ]
    },
    {
      "cell_type": "code",
      "execution_count": null,
      "metadata": {
        "id": "QsHWtqUaXYz_"
      },
      "outputs": [],
      "source": [
        "GREET_INPUTS = (\"hello\",\"hi\",\"namaste\")\n",
        "GREET_RESPONSES = [\"hi\",\"hey\",\"nods\",\"hi there\",\"hello\",\"namaste\"]\n",
        "def greet(sentence):\n",
        "\n",
        "  for word in sentence.split():\n",
        "    if word.lower() in GREET_INPUTS:\n",
        "      return random.choice(GREET_RESPONSES)"
      ]
    },
    {
      "cell_type": "code",
      "execution_count": null,
      "metadata": {
        "id": "j1vyVxidYOpG"
      },
      "outputs": [],
      "source": []
    },
    {
      "cell_type": "markdown",
      "metadata": {
        "id": "-xeOKsbCYlrM"
      },
      "source": [
        "# Response generation"
      ]
    },
    {
      "cell_type": "code",
      "execution_count": null,
      "metadata": {
        "id": "kfbCjj-OYsX2"
      },
      "outputs": [],
      "source": [
        "from sklearn.feature_extraction.text import TfidfVectorizer\n",
        "from sklearn.metrics.pairwise import cosine_similarity"
      ]
    },
    {
      "cell_type": "code",
      "execution_count": null,
      "metadata": {
        "id": "RSbk1YqBZexS"
      },
      "outputs": [],
      "source": [
        "\n",
        "def response(user_response):\n",
        "  robo1_response=''\n",
        "  TfidfVec = TfidfVectorizer(tokenizer=LemNormalize, stop_words='english')\n",
        "  tfidf = TfidfVec.fit_transform(sent_tokens)\n",
        "  #TfidfVec.get_feature_names()\n",
        "  vals = cosine_similarity(tfidf[-1],tfidf)\n",
        "  idx=vals.argsort()[0][-2]\n",
        "  flat= vals.flatten()\n",
        "  flat.sort()\n",
        "  req_tfidf = flat[-2]\n",
        "  if(req_tfidf==0):\n",
        "    robo1_response= robo1_response+ \"I am Sorry! I don't understand you\"\n",
        "    return robo1_response\n",
        "  else:\n",
        "    robo1_response = robo1_response+sent_tokens[idx]\n",
        "    return robo1_response"
      ]
    },
    {
      "cell_type": "code",
      "execution_count": null,
      "metadata": {
        "colab": {
          "base_uri": "https://localhost:8080/"
        },
        "id": "1oTPFue7iMs2",
        "outputId": "4a190621-2412-42ce-92ee-89cfb4b3fdb3"
      },
      "outputs": [
        {
          "name": "stdout",
          "output_type": "stream",
          "text": [
            "('thank you for downloading this touchstone ebook.', '* * *\\n\\n\\n\\njoin our mailing list and get updates on new releases, deals, bonus content and other great books from simon & schuster.')\n",
            "('* * *\\n\\n\\n\\njoin our mailing list and get updates on new releases, deals, bonus content and other great books from simon & schuster.', 'click here to sign up\\n\\n\\n\\n\\n\\nor visit us online to sign up at\\n\\nebooknews.simonandschuster.com\\n\\n\\n\\n\\n\\nalso from franklincovey co.\\n\\n\\nthe 7 habits of highly effective people\\n\\nthe 7 habits of highly effective people journal\\n\\nthe 7 habits of highly effective families\\n\\nliving the 7 habits\\n\\nprinciple-centered leadership\\n\\nfirst things first\\n\\n\\n\\nthe 7 habits of highly effective teens\\n\\nthe 7 habits of highly effective teens journal\\n\\nthe 7 habits of highly effective teens personal workbook\\n\\n\\n\\nlife matters\\n\\nwhat matters most\\n\\nthe 10 natural laws of successful time and life management business think\\n\\nthe power principle\\n\\nbreakthrough factor\\n\\n\\n\\n\\n\\ntouchstone\\n\\nan imprint of simon & schuster, inc.\\n\\n1230 avenue of the americas\\n\\nnew york, ny 10020\\n\\nwww.simonandschuster.com\\n\\n\\n\\ncopyright © 2003 by franklin covey co.\\n\\n\\n\\nall rights reserved, including the right to reproduce this book or portions thereof in any form whatsoever.')\n",
            "('click here to sign up\\n\\n\\n\\n\\n\\nor visit us online to sign up at\\n\\nebooknews.simonandschuster.com\\n\\n\\n\\n\\n\\nalso from franklincovey co.\\n\\n\\nthe 7 habits of highly effective people\\n\\nthe 7 habits of highly effective people journal\\n\\nthe 7 habits of highly effective families\\n\\nliving the 7 habits\\n\\nprinciple-centered leadership\\n\\nfirst things first\\n\\n\\n\\nthe 7 habits of highly effective teens\\n\\nthe 7 habits of highly effective teens journal\\n\\nthe 7 habits of highly effective teens personal workbook\\n\\n\\n\\nlife matters\\n\\nwhat matters most\\n\\nthe 10 natural laws of successful time and life management business think\\n\\nthe power principle\\n\\nbreakthrough factor\\n\\n\\n\\n\\n\\ntouchstone\\n\\nan imprint of simon & schuster, inc.\\n\\n1230 avenue of the americas\\n\\nnew york, ny 10020\\n\\nwww.simonandschuster.com\\n\\n\\n\\ncopyright © 2003 by franklin covey co.\\n\\n\\n\\nall rights reserved, including the right to reproduce this book or portions thereof in any form whatsoever.', 'for information, address touchstone subsidiary rights department, 1230 avenue of the americas, new york, ny 10020.\\n\\n\\n\\ntouchstone and colophon are registered trademarks of\\n\\nsimon & schuster, inc.\\n\\n\\n\\nthis publication is a personal workbook and is intended exclusively for individual use.')\n",
            "('for information, address touchstone subsidiary rights department, 1230 avenue of the americas, new york, ny 10020.\\n\\n\\n\\ntouchstone and colophon are registered trademarks of\\n\\nsimon & schuster, inc.\\n\\n\\n\\nthis publication is a personal workbook and is intended exclusively for individual use.', 'this work may not be reproduced for use in a classroom or other group setting or for use by organizations as part of a training program.')\n",
            "('this work may not be reproduced for use in a classroom or other group setting or for use by organizations as part of a training program.', 'such use may be granted by franklincovey in a written license and upon payment of applicable license fees; for information on becoming a licensed facilitator please call 1-888-868-1776.\\n\\n\\n\\nall terms such as company and product names appearing in this work may be trademarks or registered trademarks of their respective owners.')\n"
          ]
        },
        {
          "name": "stderr",
          "output_type": "stream",
          "text": [
            "[nltk_data] Downloading package punkt to /root/nltk_data...\n",
            "[nltk_data]   Package punkt is already up-to-date!\n"
          ]
        }
      ],
      "source": [
        "import nltk\n",
        "nltk.download('punkt')\n",
        "\n",
        "from nltk.corpus import gutenberg\n",
        "\n",
        "# Load the book\n",
        "\n",
        "\n",
        "\n",
        "\n",
        "# Create training set\n",
        "training_set = []\n",
        "for i in range(len(sent_tokens)-1):\n",
        "    training_set.append((sent_tokens[i], sent_tokens[i+1]))\n",
        "\n",
        "# Print example pairs\n",
        "for pair in training_set[:5]:\n",
        "    print(pair)\n",
        "\n"
      ]
    },
    {
      "cell_type": "markdown",
      "metadata": {
        "id": "UVrnpEg1pUQ4"
      },
      "source": [
        "# defining conversation start/end protocols"
      ]
    },
    {
      "cell_type": "code",
      "execution_count": null,
      "metadata": {
        "colab": {
          "background_save": true,
          "base_uri": "https://localhost:8080/"
        },
        "id": "pQwsA5f9pdJV",
        "outputId": "5a45403e-2400-4540-b990-d3c6f0e95a10"
      },
      "outputs": [
        {
          "name": "stdout",
          "output_type": "stream",
          "text": [
            "Bot: Iam AI powered chatbot developed by Sakshith\n",
            "BOT:hi there\n",
            "BOT:"
          ]
        },
        {
          "name": "stderr",
          "output_type": "stream",
          "text": [
            "/usr/local/lib/python3.10/dist-packages/sklearn/feature_extraction/text.py:528: UserWarning: The parameter 'token_pattern' will not be used since 'tokenizer' is not None'\n",
            "  warnings.warn(\n",
            "/usr/local/lib/python3.10/dist-packages/sklearn/feature_extraction/text.py:409: UserWarning: Your stop_words may be inconsistent with your preprocessing. Tokenizing the stop words generated tokens ['ha', 'le', 'u', 'wa'] not in stop_words.\n",
            "  warnings.warn(\n"
          ]
        },
        {
          "name": "stdout",
          "output_type": "stream",
          "text": [
            "this habit is where habits 1 and 2 come together.\n",
            "BOT:I am Sorry! I don't understand you\n"
          ]
        }
      ],
      "source": [
        "flag = True\n",
        "print(\"Bot: Iam AI powered chatbot developed by Sakshith\")\n",
        "while(flag==True):\n",
        "  user_response = input()\n",
        "  user_response = user_response.lower()\n",
        "  if(user_response!='bye'):\n",
        "    if(user_response == 'thanks' or user_response=='thank you'):\n",
        "      flag = False\n",
        "      print('Bot: You are welcome..')\n",
        "    else:\n",
        "      if(greet(user_response)!=None) :\n",
        "        print('BOT:'+greet(user_response))\n",
        "      else:\n",
        "        sent_tokens.append(user_response)\n",
        "        word_tokens = word_tokens + nltk.word_tokenize(user_response)\n",
        "        final_words = list(set(word_tokens))\n",
        "        print('BOT:',end='')\n",
        "        print(response(user_response))\n",
        "        sent_tokens.remove(user_response)\n",
        "  else:\n",
        "   flag=False\n",
        "   print('BOT: GOOD BYE!')\n"
      ]
    }
  ],
  "metadata": {
    "colab": {
      "provenance": [],
      "authorship_tag": "ABX9TyOsaWMNAYMY8VIm9px6NhVy",
      "include_colab_link": true
    },
    "kernelspec": {
      "display_name": "Python 3",
      "name": "python3"
    },
    "language_info": {
      "name": "python"
    }
  },
  "nbformat": 4,
  "nbformat_minor": 0
}