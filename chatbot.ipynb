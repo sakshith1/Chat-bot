{
  "cells": [
    {
      "cell_type": "markdown",
      "metadata": {
        "id": "view-in-github",
        "colab_type": "text"
      },
      "source": [
        "<a href=\"https://colab.research.google.com/github/sakshith1/Chat-bot/blob/main/chatbot.ipynb\" target=\"_parent\"><img src=\"https://colab.research.google.com/assets/colab-badge.svg\" alt=\"Open In Colab\"/></a>"
      ]
    },
    {
      "cell_type": "code",
      "execution_count": null,
      "metadata": {
        "colab": {
          "base_uri": "https://localhost:8080/",
          "height": 131
        },
        "id": "TdWRWf1ZI7j5",
        "outputId": "92133bcc-f295-4204-f449-a44a618c516d"
      },
      "outputs": [
        {
          "output_type": "error",
          "ename": "SyntaxError",
          "evalue": "ignored",
          "traceback": [
            "\u001b[0;36m  File \u001b[0;32m\"<ipython-input-2-d6e9332479a3>\"\u001b[0;36m, line \u001b[0;32m31\u001b[0m\n\u001b[0;31m    I am Sorry! I don't understand you\u001b[0m\n\u001b[0m                     ^\u001b[0m\n\u001b[0;31mSyntaxError\u001b[0m\u001b[0;31m:\u001b[0m unterminated string literal (detected at line 31)\n"
          ]
        }
      ],
      "source": [
        "\n",
        "import re\n",
        "#import long_responses as long\n",
        "\n",
        "\n",
        "def message_probability(user_message,recognised_words,single_response=False,required_words=[]):\n",
        "    message_certainty = 0\n",
        "    has_required_words = True\n",
        "\n",
        "    for word in user_message:\n",
        "        if word in recognised_words:\n",
        "            message_certainty +=1\n",
        "\n",
        "    percentage = float(message_certainty)/ float(len(recognised_words))\n",
        "\n",
        "    for word in required_words:\n",
        "        if word not in user_message:\n",
        "            has_required_words = False\n",
        "            break\n",
        "    if has_required_words or single_response:\n",
        "        return int(percentage*100)\n",
        "    else:\n",
        "        return 0\n",
        "\n",
        "def check_all_messages(message):\n",
        "    highest_prob_list = {}\n",
        "\n",
        "    def response(bot_response,list_of_word,single_response = False, required_words =[] ):\n",
        "        nonlocal highest_prob_list\n",
        "        highest_prob_list[bot_response] = message_probability(message, list_of_word, single_response, required_words)\n",
        "\n",
        "I am Sorry! I don't understand you\n",
        "response = [\n",
        "    {\n",
        "        \"question\": \"What is your name?\",\n",
        "        \"answer\": \"My name is ChatBot.\"\n",
        "    },\n",
        "    {\n",
        "        \"question\": \"How are you?\",\n",
        "        \"answer\": \"I'm doing well, thank you!\"\n",
        "    },\n",
        "    {\n",
        "        \"question\": \"What can you do?\",\n",
        "        \"answer\": \"I can provide information, answer questions, and assist with various tasks.\"\n",
        "    },\n",
        "    {\n",
        "        \"question\": \"Where are you from?\",\n",
        "        \"answer\": \"I am an AI chatbot and don't have a physical location.\"\n",
        "    },\n",
        "    {\n",
        "        \"question\": \"How old are you?\",\n",
        "        \"answer\": \"I don't have an age as I am an AI program.\"\n",
        "    },\n",
        "    {\n",
        "        \"question\": \"What is the meaning of life?\",\n",
        "        \"answer\": \"The meaning of life can be subjective and different for each individual.\"\n",
        "    }\n",
        "    # Add more question-answer pairs as needed\n",
        "]\n",
        "\n",
        "    best_match = max(highest_prob_list, key=highest_prob_list.get)\n",
        "    print(highest_prob_list)\n",
        "\n",
        "\n",
        "\n",
        "    return best_match\n",
        "\n",
        "\n",
        "\n",
        "def get_response(user_input):\n",
        "    split_message = re.split(r'\\s+|[,;?!.-]\\s*', user_input())\n",
        "    response = check_all_messages(split_message)\n",
        "    return response\n",
        "while True:\n",
        "    print('Bot:' + get_response(input))"
      ]
    },
    {
      "cell_type": "code",
      "execution_count": null,
      "metadata": {
        "id": "On1YH1H2TA3Z"
      },
      "outputs": [],
      "source": []
    }
  ],
  "metadata": {
    "colab": {
      "provenance": [],
      "authorship_tag": "ABX9TyOEmZu16CKijRWsDRzB58a2",
      "include_colab_link": true
    },
    "kernelspec": {
      "display_name": "Python 3",
      "name": "python3"
    },
    "language_info": {
      "name": "python"
    }
  },
  "nbformat": 4,
  "nbformat_minor": 0
}